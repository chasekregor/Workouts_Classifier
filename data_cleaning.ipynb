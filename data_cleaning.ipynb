{
 "metadata": {
  "language_info": {
   "codemirror_mode": {
    "name": "ipython",
    "version": 3
   },
   "file_extension": ".py",
   "mimetype": "text/x-python",
   "name": "python",
   "nbconvert_exporter": "python",
   "pygments_lexer": "ipython3",
   "version": "3.8.5-final"
  },
  "orig_nbformat": 2,
  "kernelspec": {
   "name": "python3",
   "display_name": "Python 3",
   "language": "python"
  }
 },
 "nbformat": 4,
 "nbformat_minor": 2,
 "cells": [
  {
   "cell_type": "code",
   "execution_count": 1,
   "metadata": {},
   "outputs": [],
   "source": [
    "import pandas as pd\n",
    "import numpy as np"
   ]
  },
  {
   "cell_type": "code",
   "execution_count": 2,
   "metadata": {},
   "outputs": [
    {
     "output_type": "execute_result",
     "data": {
      "text/plain": [
       "             type        date      moving_time  activity_id  \\\n",
       "0             Run  2021-01-25  0 days 00:23:15   4681776003   \n",
       "1             Run  2021-01-24  0 days 00:13:49   4676373084   \n",
       "2  WeightTraining  2021-01-24  0 days 00:21:03   4676271709   \n",
       "3            Hike  2021-01-23  0 days 01:18:58   4669702889   \n",
       "4            Walk  2021-01-22  0 days 00:14:31   4663042410   \n",
       "\n",
       "                     name  distance  elevation gain  trainer  average_speed  \\\n",
       "0           Afternoon Run      2.01              26    False              5   \n",
       "1           Afternoon Run      1.17              26    False              5   \n",
       "2      Afternoon Activity      0.00               0     True              0   \n",
       "3  Green mountain w Abby       3.71             740    False              3   \n",
       "4            Morning Walk      0.75              27    False              3   \n",
       "\n",
       "   max_speed  ...  average_cadence  kilojoules   gear_id  average_temp  \\\n",
       "0          5  ...              NaN         NaN  g5384532           NaN   \n",
       "1          5  ...              NaN         NaN  g5384532           NaN   \n",
       "2          0  ...              NaN         NaN       NaN           NaN   \n",
       "3          3  ...              NaN         NaN  g5384532           NaN   \n",
       "4          3  ...              NaN         NaN  g5384532           NaN   \n",
       "\n",
       "   start_longitude start_latitude        timezone  location_city  \\\n",
       "0          -105.00          39.75  America/Denver            NaN   \n",
       "1          -105.00          39.75  America/Denver            NaN   \n",
       "2              NaN            NaN  America/Denver            NaN   \n",
       "3          -105.19          39.70  America/Denver            NaN   \n",
       "4          -105.00          39.75  America/Denver            NaN   \n",
       "\n",
       "   location_state location_country  \n",
       "0             NaN    United States  \n",
       "1             NaN    United States  \n",
       "2             NaN    United States  \n",
       "3             NaN    United States  \n",
       "4             NaN    United States  \n",
       "\n",
       "[5 rows x 23 columns]"
      ],
      "text/html": "<div>\n<style scoped>\n    .dataframe tbody tr th:only-of-type {\n        vertical-align: middle;\n    }\n\n    .dataframe tbody tr th {\n        vertical-align: top;\n    }\n\n    .dataframe thead th {\n        text-align: right;\n    }\n</style>\n<table border=\"1\" class=\"dataframe\">\n  <thead>\n    <tr style=\"text-align: right;\">\n      <th></th>\n      <th>type</th>\n      <th>date</th>\n      <th>moving_time</th>\n      <th>activity_id</th>\n      <th>name</th>\n      <th>distance</th>\n      <th>elevation gain</th>\n      <th>trainer</th>\n      <th>average_speed</th>\n      <th>max_speed</th>\n      <th>...</th>\n      <th>average_cadence</th>\n      <th>kilojoules</th>\n      <th>gear_id</th>\n      <th>average_temp</th>\n      <th>start_longitude</th>\n      <th>start_latitude</th>\n      <th>timezone</th>\n      <th>location_city</th>\n      <th>location_state</th>\n      <th>location_country</th>\n    </tr>\n  </thead>\n  <tbody>\n    <tr>\n      <th>0</th>\n      <td>Run</td>\n      <td>2021-01-25</td>\n      <td>0 days 00:23:15</td>\n      <td>4681776003</td>\n      <td>Afternoon Run</td>\n      <td>2.01</td>\n      <td>26</td>\n      <td>False</td>\n      <td>5</td>\n      <td>5</td>\n      <td>...</td>\n      <td>NaN</td>\n      <td>NaN</td>\n      <td>g5384532</td>\n      <td>NaN</td>\n      <td>-105.00</td>\n      <td>39.75</td>\n      <td>America/Denver</td>\n      <td>NaN</td>\n      <td>NaN</td>\n      <td>United States</td>\n    </tr>\n    <tr>\n      <th>1</th>\n      <td>Run</td>\n      <td>2021-01-24</td>\n      <td>0 days 00:13:49</td>\n      <td>4676373084</td>\n      <td>Afternoon Run</td>\n      <td>1.17</td>\n      <td>26</td>\n      <td>False</td>\n      <td>5</td>\n      <td>5</td>\n      <td>...</td>\n      <td>NaN</td>\n      <td>NaN</td>\n      <td>g5384532</td>\n      <td>NaN</td>\n      <td>-105.00</td>\n      <td>39.75</td>\n      <td>America/Denver</td>\n      <td>NaN</td>\n      <td>NaN</td>\n      <td>United States</td>\n    </tr>\n    <tr>\n      <th>2</th>\n      <td>WeightTraining</td>\n      <td>2021-01-24</td>\n      <td>0 days 00:21:03</td>\n      <td>4676271709</td>\n      <td>Afternoon Activity</td>\n      <td>0.00</td>\n      <td>0</td>\n      <td>True</td>\n      <td>0</td>\n      <td>0</td>\n      <td>...</td>\n      <td>NaN</td>\n      <td>NaN</td>\n      <td>NaN</td>\n      <td>NaN</td>\n      <td>NaN</td>\n      <td>NaN</td>\n      <td>America/Denver</td>\n      <td>NaN</td>\n      <td>NaN</td>\n      <td>United States</td>\n    </tr>\n    <tr>\n      <th>3</th>\n      <td>Hike</td>\n      <td>2021-01-23</td>\n      <td>0 days 01:18:58</td>\n      <td>4669702889</td>\n      <td>Green mountain w Abby</td>\n      <td>3.71</td>\n      <td>740</td>\n      <td>False</td>\n      <td>3</td>\n      <td>3</td>\n      <td>...</td>\n      <td>NaN</td>\n      <td>NaN</td>\n      <td>g5384532</td>\n      <td>NaN</td>\n      <td>-105.19</td>\n      <td>39.70</td>\n      <td>America/Denver</td>\n      <td>NaN</td>\n      <td>NaN</td>\n      <td>United States</td>\n    </tr>\n    <tr>\n      <th>4</th>\n      <td>Walk</td>\n      <td>2021-01-22</td>\n      <td>0 days 00:14:31</td>\n      <td>4663042410</td>\n      <td>Morning Walk</td>\n      <td>0.75</td>\n      <td>27</td>\n      <td>False</td>\n      <td>3</td>\n      <td>3</td>\n      <td>...</td>\n      <td>NaN</td>\n      <td>NaN</td>\n      <td>g5384532</td>\n      <td>NaN</td>\n      <td>-105.00</td>\n      <td>39.75</td>\n      <td>America/Denver</td>\n      <td>NaN</td>\n      <td>NaN</td>\n      <td>United States</td>\n    </tr>\n  </tbody>\n</table>\n<p>5 rows × 23 columns</p>\n</div>"
     },
     "metadata": {},
     "execution_count": 2
    }
   ],
   "source": [
    "workouts = pd.read_csv('workouts.csv', index_col=0)\n",
    "workouts.head()"
   ]
  },
  {
   "source": [
    "### What are the column types?"
   ],
   "cell_type": "markdown",
   "metadata": {}
  },
  {
   "cell_type": "code",
   "execution_count": 3,
   "metadata": {},
   "outputs": [
    {
     "output_type": "execute_result",
     "data": {
      "text/plain": [
       "type                  object\n",
       "date                  object\n",
       "moving_time           object\n",
       "activity_id            int64\n",
       "name                  object\n",
       "distance             float64\n",
       "elevation gain         int64\n",
       "trainer                 bool\n",
       "average_speed          int64\n",
       "max_speed              int64\n",
       "average_watts        float64\n",
       "suffer_score         float64\n",
       "average_heartrate    float64\n",
       "average_cadence      float64\n",
       "kilojoules           float64\n",
       "gear_id               object\n",
       "average_temp         float64\n",
       "start_longitude      float64\n",
       "start_latitude       float64\n",
       "timezone              object\n",
       "location_city         object\n",
       "location_state        object\n",
       "location_country      object\n",
       "dtype: object"
      ]
     },
     "metadata": {},
     "execution_count": 3
    }
   ],
   "source": [
    "workouts.dtypes"
   ]
  },
  {
   "source": [
    "### Missing Data"
   ],
   "cell_type": "markdown",
   "metadata": {}
  },
  {
   "cell_type": "code",
   "execution_count": 4,
   "metadata": {},
   "outputs": [
    {
     "output_type": "execute_result",
     "data": {
      "text/plain": [
       "type                    0\n",
       "date                    0\n",
       "moving_time             0\n",
       "activity_id             0\n",
       "name                    0\n",
       "distance                0\n",
       "elevation gain          0\n",
       "trainer                 0\n",
       "average_speed           0\n",
       "max_speed               0\n",
       "average_watts         487\n",
       "suffer_score          284\n",
       "average_heartrate     282\n",
       "average_cadence       527\n",
       "kilojoules            493\n",
       "gear_id                63\n",
       "average_temp          639\n",
       "start_longitude       395\n",
       "start_latitude        395\n",
       "timezone                0\n",
       "location_city        1002\n",
       "location_state       1002\n",
       "location_country        0\n",
       "dtype: int64"
      ]
     },
     "metadata": {},
     "execution_count": 4
    }
   ],
   "source": [
    "workouts.isnull().sum()"
   ]
  },
  {
   "source": [
    "If the columns below don't have a value, simply take the average. We don't want to lose those observations given we don't have a ton of data"
   ],
   "cell_type": "markdown",
   "metadata": {}
  },
  {
   "cell_type": "code",
   "execution_count": 5,
   "metadata": {},
   "outputs": [],
   "source": [
    "workouts.average_heartrate = workouts.average_heartrate.fillna(workouts.average_heartrate.mean())\n",
    "\n",
    "workouts.kilojoules = workouts.kilojoules.fillna(workouts.kilojoules.mean())\n",
    "\n",
    "workouts.suffer_score = workouts.suffer_score.fillna(workouts.suffer_score.mean())"
   ]
  },
  {
   "cell_type": "code",
   "execution_count": 6,
   "metadata": {},
   "outputs": [
    {
     "output_type": "execute_result",
     "data": {
      "text/plain": [
       "type                    0\n",
       "date                    0\n",
       "moving_time             0\n",
       "activity_id             0\n",
       "name                    0\n",
       "distance                0\n",
       "elevation gain          0\n",
       "trainer                 0\n",
       "average_speed           0\n",
       "max_speed               0\n",
       "average_watts         487\n",
       "suffer_score            0\n",
       "average_heartrate       0\n",
       "average_cadence       527\n",
       "kilojoules              0\n",
       "gear_id                63\n",
       "average_temp          639\n",
       "start_longitude       395\n",
       "start_latitude        395\n",
       "timezone                0\n",
       "location_city        1002\n",
       "location_state       1002\n",
       "location_country        0\n",
       "dtype: int64"
      ]
     },
     "metadata": {},
     "execution_count": 6
    }
   ],
   "source": [
    "workouts.isnull().sum()"
   ]
  },
  {
   "source": [
    "I am comftorable with remaining missing data"
   ],
   "cell_type": "markdown",
   "metadata": {}
  },
  {
   "cell_type": "code",
   "execution_count": 7,
   "metadata": {},
   "outputs": [],
   "source": [
    "workouts = workouts.apply(lambda x: x.astype(str).str.lower())\n",
    "workouts = workouts.replace('true',1)\n",
    "workouts = workouts.replace('false',0)"
   ]
  },
  {
   "source": [
    "### Feature Engineering"
   ],
   "cell_type": "markdown",
   "metadata": {}
  },
  {
   "cell_type": "code",
   "execution_count": 8,
   "metadata": {},
   "outputs": [],
   "source": [
    "# date additions of time_added\n",
    "workouts['date'] = pd.to_datetime(workouts['date'])\n",
    "workouts['year'] = workouts['date'].dt.year\n",
    "workouts['month'] = workouts['date'].dt.month\n",
    "workouts['mnth_yr'] = workouts['date'].apply(lambda x: x.strftime('%Y-%m')) # note: not very efficient\n",
    "workouts['day'] = workouts['date'].dt.day\n",
    "workouts['dow'] = workouts['date'].dt.day_name()\n",
    "workouts['week_number'] = workouts['date'].dt.week\n",
    "workouts['hour'] = workouts['date'].dt.hour\n",
    "workouts['date'] = workouts['date'].apply(lambda x: x.strftime('%Y-%m-%d')) # note: not very efficient"
   ]
  },
  {
   "cell_type": "code",
   "execution_count": 9,
   "metadata": {},
   "outputs": [],
   "source": [
    "workouts['moving_time'] = pd.to_timedelta(workouts['moving_time'])\n",
    "workouts['moving_time (minutes)'] = workouts['moving_time'].dt.total_seconds().div(60).astype(int)"
   ]
  },
  {
   "cell_type": "code",
   "execution_count": 10,
   "metadata": {},
   "outputs": [
    {
     "output_type": "execute_result",
     "data": {
      "text/plain": [
       "             type        date     moving_time activity_id  \\\n",
       "0             run  2021-01-25 0 days 00:23:15  4681776003   \n",
       "1             run  2021-01-24 0 days 00:13:49  4676373084   \n",
       "2  weighttraining  2021-01-24 0 days 00:21:03  4676271709   \n",
       "3            hike  2021-01-23 0 days 01:18:58  4669702889   \n",
       "4            walk  2021-01-22 0 days 00:14:31  4663042410   \n",
       "\n",
       "                     name distance elevation gain  trainer average_speed  \\\n",
       "0           afternoon run     2.01             26        0             5   \n",
       "1           afternoon run     1.17             26        0             5   \n",
       "2      afternoon activity      0.0              0        1             0   \n",
       "3  green mountain w abby      3.71            740        0             3   \n",
       "4            morning walk     0.75             27        0             3   \n",
       "\n",
       "  max_speed  ... location_state location_country  year month  mnth_yr day  \\\n",
       "0         5  ...            nan    united states  2021     1  2021-01  25   \n",
       "1         5  ...            nan    united states  2021     1  2021-01  24   \n",
       "2         0  ...            nan    united states  2021     1  2021-01  24   \n",
       "3         3  ...            nan    united states  2021     1  2021-01  23   \n",
       "4         3  ...            nan    united states  2021     1  2021-01  22   \n",
       "\n",
       "        dow week_number hour moving_time (minutes)  \n",
       "0    Monday           4    0                    23  \n",
       "1    Sunday           3    0                    13  \n",
       "2    Sunday           3    0                    21  \n",
       "3  Saturday           3    0                    78  \n",
       "4    Friday           3    0                    14  \n",
       "\n",
       "[5 rows x 31 columns]"
      ],
      "text/html": "<div>\n<style scoped>\n    .dataframe tbody tr th:only-of-type {\n        vertical-align: middle;\n    }\n\n    .dataframe tbody tr th {\n        vertical-align: top;\n    }\n\n    .dataframe thead th {\n        text-align: right;\n    }\n</style>\n<table border=\"1\" class=\"dataframe\">\n  <thead>\n    <tr style=\"text-align: right;\">\n      <th></th>\n      <th>type</th>\n      <th>date</th>\n      <th>moving_time</th>\n      <th>activity_id</th>\n      <th>name</th>\n      <th>distance</th>\n      <th>elevation gain</th>\n      <th>trainer</th>\n      <th>average_speed</th>\n      <th>max_speed</th>\n      <th>...</th>\n      <th>location_state</th>\n      <th>location_country</th>\n      <th>year</th>\n      <th>month</th>\n      <th>mnth_yr</th>\n      <th>day</th>\n      <th>dow</th>\n      <th>week_number</th>\n      <th>hour</th>\n      <th>moving_time (minutes)</th>\n    </tr>\n  </thead>\n  <tbody>\n    <tr>\n      <th>0</th>\n      <td>run</td>\n      <td>2021-01-25</td>\n      <td>0 days 00:23:15</td>\n      <td>4681776003</td>\n      <td>afternoon run</td>\n      <td>2.01</td>\n      <td>26</td>\n      <td>0</td>\n      <td>5</td>\n      <td>5</td>\n      <td>...</td>\n      <td>nan</td>\n      <td>united states</td>\n      <td>2021</td>\n      <td>1</td>\n      <td>2021-01</td>\n      <td>25</td>\n      <td>Monday</td>\n      <td>4</td>\n      <td>0</td>\n      <td>23</td>\n    </tr>\n    <tr>\n      <th>1</th>\n      <td>run</td>\n      <td>2021-01-24</td>\n      <td>0 days 00:13:49</td>\n      <td>4676373084</td>\n      <td>afternoon run</td>\n      <td>1.17</td>\n      <td>26</td>\n      <td>0</td>\n      <td>5</td>\n      <td>5</td>\n      <td>...</td>\n      <td>nan</td>\n      <td>united states</td>\n      <td>2021</td>\n      <td>1</td>\n      <td>2021-01</td>\n      <td>24</td>\n      <td>Sunday</td>\n      <td>3</td>\n      <td>0</td>\n      <td>13</td>\n    </tr>\n    <tr>\n      <th>2</th>\n      <td>weighttraining</td>\n      <td>2021-01-24</td>\n      <td>0 days 00:21:03</td>\n      <td>4676271709</td>\n      <td>afternoon activity</td>\n      <td>0.0</td>\n      <td>0</td>\n      <td>1</td>\n      <td>0</td>\n      <td>0</td>\n      <td>...</td>\n      <td>nan</td>\n      <td>united states</td>\n      <td>2021</td>\n      <td>1</td>\n      <td>2021-01</td>\n      <td>24</td>\n      <td>Sunday</td>\n      <td>3</td>\n      <td>0</td>\n      <td>21</td>\n    </tr>\n    <tr>\n      <th>3</th>\n      <td>hike</td>\n      <td>2021-01-23</td>\n      <td>0 days 01:18:58</td>\n      <td>4669702889</td>\n      <td>green mountain w abby</td>\n      <td>3.71</td>\n      <td>740</td>\n      <td>0</td>\n      <td>3</td>\n      <td>3</td>\n      <td>...</td>\n      <td>nan</td>\n      <td>united states</td>\n      <td>2021</td>\n      <td>1</td>\n      <td>2021-01</td>\n      <td>23</td>\n      <td>Saturday</td>\n      <td>3</td>\n      <td>0</td>\n      <td>78</td>\n    </tr>\n    <tr>\n      <th>4</th>\n      <td>walk</td>\n      <td>2021-01-22</td>\n      <td>0 days 00:14:31</td>\n      <td>4663042410</td>\n      <td>morning walk</td>\n      <td>0.75</td>\n      <td>27</td>\n      <td>0</td>\n      <td>3</td>\n      <td>3</td>\n      <td>...</td>\n      <td>nan</td>\n      <td>united states</td>\n      <td>2021</td>\n      <td>1</td>\n      <td>2021-01</td>\n      <td>22</td>\n      <td>Friday</td>\n      <td>3</td>\n      <td>0</td>\n      <td>14</td>\n    </tr>\n  </tbody>\n</table>\n<p>5 rows × 31 columns</p>\n</div>"
     },
     "metadata": {},
     "execution_count": 10
    }
   ],
   "source": [
    "workouts.head()"
   ]
  },
  {
   "source": [
    "### Identifying and Removing Any Outliers"
   ],
   "cell_type": "markdown",
   "metadata": {}
  },
  {
   "cell_type": "code",
   "execution_count": 11,
   "metadata": {},
   "outputs": [
    {
     "output_type": "execute_result",
     "data": {
      "text/plain": [
       "ride              777\n",
       "run               315\n",
       "virtualride        66\n",
       "walk               60\n",
       "weighttraining     26\n",
       "workout            19\n",
       "hike                9\n",
       "swim                4\n",
       "yoga                4\n",
       "crossfit            1\n",
       "rowing              1\n",
       "Name: type, dtype: int64"
      ]
     },
     "metadata": {},
     "execution_count": 11
    }
   ],
   "source": [
    "workouts.type.value_counts()"
   ]
  },
  {
   "cell_type": "code",
   "execution_count": 12,
   "metadata": {},
   "outputs": [],
   "source": [
    "#simply not interested in these workout types and such small sample sizes that it's not even really trainable even if we wanted to\n",
    "workouts = workouts[workouts['type'] != 'crossfit']\n",
    "workouts = workouts[workouts['type'] != 'rowing']\n",
    "\n",
    "#WeightTraining = Workout\n",
    "workouts['type'] = workouts['type'].apply(lambda x: 'workout' if x == 'weighttraining' else x )\n",
    "\n",
    "#VirtualRide = Ride\n",
    "workouts['type'] = workouts['type'].apply(lambda x: 'ride' if x == 'virtualride' else x )\n"
   ]
  },
  {
   "cell_type": "code",
   "execution_count": 13,
   "metadata": {},
   "outputs": [
    {
     "output_type": "execute_result",
     "data": {
      "text/plain": [
       "ride       843\n",
       "run        315\n",
       "walk        60\n",
       "workout     45\n",
       "hike         9\n",
       "swim         4\n",
       "yoga         4\n",
       "Name: type, dtype: int64"
      ]
     },
     "metadata": {},
     "execution_count": 13
    }
   ],
   "source": [
    "workouts.type.value_counts()"
   ]
  },
  {
   "cell_type": "code",
   "execution_count": 14,
   "metadata": {},
   "outputs": [],
   "source": [
    "workouts.to_csv('workouts_cleaned.csv')"
   ]
  }
 ]
}