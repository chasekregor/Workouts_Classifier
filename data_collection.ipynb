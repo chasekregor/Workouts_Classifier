{
 "metadata": {
  "language_info": {
   "codemirror_mode": {
    "name": "ipython",
    "version": 3
   },
   "file_extension": ".py",
   "mimetype": "text/x-python",
   "name": "python",
   "nbconvert_exporter": "python",
   "pygments_lexer": "ipython3",
   "version": "3.8.5-final"
  },
  "orig_nbformat": 2,
  "kernelspec": {
   "name": "python3",
   "display_name": "Python 3",
   "language": "python"
  }
 },
 "nbformat": 4,
 "nbformat_minor": 2,
 "cells": [
  {
   "cell_type": "code",
   "execution_count": 31,
   "metadata": {},
   "outputs": [],
   "source": [
    "import pandas as pd\n",
    "from stravalib import unithelper\n",
    "from stravalib import Client\n",
    "from credentials import *\n"
   ]
  },
  {
   "cell_type": "code",
   "execution_count": 32,
   "metadata": {},
   "outputs": [
    {
     "output_type": "stream",
     "name": "stdout",
     "text": [
      "Go to the URL below in a browser and find the code in the new page's\nhttps://www.strava.com/oauth/authorize?client_id=24067&redirect_uri=http%3A%2F%2Flocalhost%2F&approval_prompt=auto&response_type=code&scope=read%2Cactivity%3Aread\n"
     ]
    }
   ],
   "source": [
    "client_id = client_id\n",
    "client_secret = client_secret\n",
    "client = Client()\n",
    "url = client.authorization_url(\n",
    "    client_id=client_id,\n",
    "    redirect_uri='http://localhost/'\n",
    ")\n",
    "print(\"Go to the URL below in a browser and find the code in the new page's\")\n",
    "print(url)"
   ]
  },
  {
   "cell_type": "code",
   "execution_count": 33,
   "metadata": {},
   "outputs": [
    {
     "output_type": "stream",
     "name": "stdout",
     "text": [
      "Hello, Chase, I know you.\n"
     ]
    }
   ],
   "source": [
    "# Change code  aka t8f32b9be13bbc477e6cda663fb34ebcea302a99dhis to what you see when you visit the link above\n",
    "#This authorizes your API connection\n",
    "code = '3850142c352ab790ac09a44ad94ced48593d84ab' \n",
    "access_token = client.exchange_code_for_token(\n",
    "    client_id=client_id,\n",
    "    client_secret=client_secret,\n",
    "    code=code\n",
    ")\n",
    "refresh_token = access_token['access_token']\n",
    "client = Client(access_token=refresh_token)\n",
    "# Test the connection\n",
    "athlete = client.get_athlete()\n",
    "print(f'Hello, {athlete.firstname}, I know you.')"
   ]
  },
  {
   "cell_type": "code",
   "execution_count": 34,
   "metadata": {},
   "outputs": [],
   "source": [
    "workouts = pd.DataFrame(\n",
    "    columns=[\n",
    "        'type',\n",
    "        'date',\n",
    "        'moving_time',\n",
    "        'activity_id',\n",
    "        'name',\n",
    "        'distance',\n",
    "        'elevation gain',\n",
    "        'trainer',\n",
    "        'average_speed',\n",
    "        'max_speed',\n",
    "        'average_watts',\n",
    "        'suffer_score',\n",
    "        'average_heartrate',\n",
    "        'average_cadence',\n",
    "        'kilojoules',\n",
    "        'gear_id',\n",
    "        'average_temp',\n",
    "        'start_longitude',\n",
    "        'start_latitude',\n",
    "        'timezone',\n",
    "        'location_city',\n",
    "        'location_state',\n",
    "        'location_country'\n",
    "    ]\n",
    ")\n",
    "for activity in client.get_activities(\n",
    "    after=\"2010-12-31T00:00:00Z\",\n",
    "    before=\"2022-01-01T00:00:00Z\"):\n",
    "        workouts = workouts.append(\n",
    "            {\n",
    "                'type': activity.type,\n",
    "                'date': activity.start_date_local.date(),\n",
    "                'activity_id': activity.id, \n",
    "                'moving_time': activity.moving_time,\n",
    "                'name': activity.name, \n",
    "                'distance': round(float(unithelper.miles(activity.distance)), 2),\n",
    "                'elevation gain': round(float(unithelper.feet(activity.total_elevation_gain))),\n",
    "                'trainer': activity.trainer,\n",
    "                'average_speed': round(float(unithelper.miles_per_hour(activity.average_speed))),\n",
    "                'max_speed': round(float(unithelper.miles_per_hour(activity.average_speed))),\n",
    "                'average_watts': activity.average_watts,\n",
    "                'suffer_score': activity.suffer_score,\n",
    "                'average_heartrate': activity.average_heartrate,\n",
    "                'average_cadence': activity.average_cadence,\n",
    "                'kilojoules': activity.kilojoules,\n",
    "                'gear_id': activity.gear_id,\n",
    "                'average_temp': activity.average_temp,\n",
    "                'start_longitude': activity.start_longitude,\n",
    "                'start_latitude': activity.start_latitude,\n",
    "                'timezone': activity.timezone,\n",
    "                'location_city': activity.location_city,\n",
    "                'location_state': activity.location_state,\n",
    "                'location_country': activity.location_country,\n",
    "\n",
    "            }, \n",
    "            ignore_index=True\n",
    "        )"
   ]
  },
  {
   "cell_type": "code",
   "execution_count": 35,
   "metadata": {},
   "outputs": [
    {
     "output_type": "execute_result",
     "data": {
      "text/plain": [
       "             type        date     moving_time activity_id  \\\n",
       "0             Run  2021-01-25 0 days 00:23:15  4681776003   \n",
       "1             Run  2021-01-24 0 days 00:13:49  4676373084   \n",
       "2  WeightTraining  2021-01-24 0 days 00:21:03  4676271709   \n",
       "3            Hike  2021-01-23 0 days 01:18:58  4669702889   \n",
       "4            Walk  2021-01-22 0 days 00:14:31  4663042410   \n",
       "\n",
       "                     name  distance elevation gain trainer average_speed  \\\n",
       "0           Afternoon Run      2.01             26   False             5   \n",
       "1           Afternoon Run      1.17             26   False             5   \n",
       "2      Afternoon Activity      0.00              0    True             0   \n",
       "3  Green mountain w Abby       3.71            740   False             3   \n",
       "4            Morning Walk      0.75             27   False             3   \n",
       "\n",
       "  max_speed  ... average_cadence kilojoules   gear_id average_temp  \\\n",
       "0         5  ...            None       None  g5384532         None   \n",
       "1         5  ...            None       None  g5384532         None   \n",
       "2         0  ...            None       None      None         None   \n",
       "3         3  ...            None       None  g5384532         None   \n",
       "4         3  ...            None       None  g5384532         None   \n",
       "\n",
       "  start_longitude start_latitude        timezone location_city location_state  \\\n",
       "0            -105          39.75  America/Denver          None           None   \n",
       "1            -105          39.75  America/Denver          None           None   \n",
       "2            None           None  America/Denver          None           None   \n",
       "3         -105.19           39.7  America/Denver          None           None   \n",
       "4            -105          39.75  America/Denver          None           None   \n",
       "\n",
       "  location_country  \n",
       "0    United States  \n",
       "1    United States  \n",
       "2    United States  \n",
       "3    United States  \n",
       "4    United States  \n",
       "\n",
       "[5 rows x 23 columns]"
      ],
      "text/html": "<div>\n<style scoped>\n    .dataframe tbody tr th:only-of-type {\n        vertical-align: middle;\n    }\n\n    .dataframe tbody tr th {\n        vertical-align: top;\n    }\n\n    .dataframe thead th {\n        text-align: right;\n    }\n</style>\n<table border=\"1\" class=\"dataframe\">\n  <thead>\n    <tr style=\"text-align: right;\">\n      <th></th>\n      <th>type</th>\n      <th>date</th>\n      <th>moving_time</th>\n      <th>activity_id</th>\n      <th>name</th>\n      <th>distance</th>\n      <th>elevation gain</th>\n      <th>trainer</th>\n      <th>average_speed</th>\n      <th>max_speed</th>\n      <th>...</th>\n      <th>average_cadence</th>\n      <th>kilojoules</th>\n      <th>gear_id</th>\n      <th>average_temp</th>\n      <th>start_longitude</th>\n      <th>start_latitude</th>\n      <th>timezone</th>\n      <th>location_city</th>\n      <th>location_state</th>\n      <th>location_country</th>\n    </tr>\n  </thead>\n  <tbody>\n    <tr>\n      <th>0</th>\n      <td>Run</td>\n      <td>2021-01-25</td>\n      <td>0 days 00:23:15</td>\n      <td>4681776003</td>\n      <td>Afternoon Run</td>\n      <td>2.01</td>\n      <td>26</td>\n      <td>False</td>\n      <td>5</td>\n      <td>5</td>\n      <td>...</td>\n      <td>None</td>\n      <td>None</td>\n      <td>g5384532</td>\n      <td>None</td>\n      <td>-105</td>\n      <td>39.75</td>\n      <td>America/Denver</td>\n      <td>None</td>\n      <td>None</td>\n      <td>United States</td>\n    </tr>\n    <tr>\n      <th>1</th>\n      <td>Run</td>\n      <td>2021-01-24</td>\n      <td>0 days 00:13:49</td>\n      <td>4676373084</td>\n      <td>Afternoon Run</td>\n      <td>1.17</td>\n      <td>26</td>\n      <td>False</td>\n      <td>5</td>\n      <td>5</td>\n      <td>...</td>\n      <td>None</td>\n      <td>None</td>\n      <td>g5384532</td>\n      <td>None</td>\n      <td>-105</td>\n      <td>39.75</td>\n      <td>America/Denver</td>\n      <td>None</td>\n      <td>None</td>\n      <td>United States</td>\n    </tr>\n    <tr>\n      <th>2</th>\n      <td>WeightTraining</td>\n      <td>2021-01-24</td>\n      <td>0 days 00:21:03</td>\n      <td>4676271709</td>\n      <td>Afternoon Activity</td>\n      <td>0.00</td>\n      <td>0</td>\n      <td>True</td>\n      <td>0</td>\n      <td>0</td>\n      <td>...</td>\n      <td>None</td>\n      <td>None</td>\n      <td>None</td>\n      <td>None</td>\n      <td>None</td>\n      <td>None</td>\n      <td>America/Denver</td>\n      <td>None</td>\n      <td>None</td>\n      <td>United States</td>\n    </tr>\n    <tr>\n      <th>3</th>\n      <td>Hike</td>\n      <td>2021-01-23</td>\n      <td>0 days 01:18:58</td>\n      <td>4669702889</td>\n      <td>Green mountain w Abby</td>\n      <td>3.71</td>\n      <td>740</td>\n      <td>False</td>\n      <td>3</td>\n      <td>3</td>\n      <td>...</td>\n      <td>None</td>\n      <td>None</td>\n      <td>g5384532</td>\n      <td>None</td>\n      <td>-105.19</td>\n      <td>39.7</td>\n      <td>America/Denver</td>\n      <td>None</td>\n      <td>None</td>\n      <td>United States</td>\n    </tr>\n    <tr>\n      <th>4</th>\n      <td>Walk</td>\n      <td>2021-01-22</td>\n      <td>0 days 00:14:31</td>\n      <td>4663042410</td>\n      <td>Morning Walk</td>\n      <td>0.75</td>\n      <td>27</td>\n      <td>False</td>\n      <td>3</td>\n      <td>3</td>\n      <td>...</td>\n      <td>None</td>\n      <td>None</td>\n      <td>g5384532</td>\n      <td>None</td>\n      <td>-105</td>\n      <td>39.75</td>\n      <td>America/Denver</td>\n      <td>None</td>\n      <td>None</td>\n      <td>United States</td>\n    </tr>\n  </tbody>\n</table>\n<p>5 rows × 23 columns</p>\n</div>"
     },
     "metadata": {},
     "execution_count": 35
    }
   ],
   "source": [
    "workouts.head()"
   ]
  },
  {
   "cell_type": "code",
   "execution_count": 36,
   "metadata": {},
   "outputs": [],
   "source": [
    "workouts.to_csv('workouts.csv')"
   ]
  },
  {
   "cell_type": "code",
   "execution_count": null,
   "metadata": {},
   "outputs": [],
   "source": []
  }
 ]
}